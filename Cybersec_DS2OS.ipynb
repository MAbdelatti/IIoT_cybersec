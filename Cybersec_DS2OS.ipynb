{
  "cells": [
    {
      "cell_type": "markdown",
      "metadata": {
        "id": "SKQ4bH7qMGrA"
      },
      "source": [
        "# Making the Most of your Colab Subscription\n",
        "\n"
      ]
    },
    {
      "cell_type": "markdown",
      "metadata": {
        "id": "QMMqmdiYMkvi"
      },
      "source": [
        "## Faster GPUs\n",
        "\n",
        "With Colab Pro you have priority access to our fastest GPUs and with Pro+ even more so. For example, you may get a T4 or P100 GPU at times when most users of standard Colab receive a slower K80 GPU. You can see what GPU you've been assigned at any time by executing the following cell.\n",
        "\n",
        "If the execution result of running the code cell below is \"Not connected to a GPU\", you can change the runtime by going to Runtime > Change runtime type in the menu to enable a GPU accelerator, and then re-execute the code cell."
      ]
    },
    {
      "cell_type": "markdown",
      "metadata": {
        "id": "K-DCPULOvnFH"
      },
      "source": [
        "#Mount Google Drive"
      ]
    },
    {
      "cell_type": "code",
      "execution_count": null,
      "metadata": {
        "colab": {
          "base_uri": "https://localhost:8080/"
        },
        "id": "GCdaW-tPJuja",
        "outputId": "09e3d625-40c8-42ee-ef79-8179768c1c8b"
      },
      "outputs": [
        {
          "output_type": "stream",
          "name": "stdout",
          "text": [
            "Mounted at /content/drive\n"
          ]
        }
      ],
      "source": [
        "from google.colab import drive\n",
        "drive.mount('/content/drive')"
      ]
    },
    {
      "cell_type": "markdown",
      "metadata": {
        "id": "lSQBg_havssK"
      },
      "source": [
        "#Install opendatasets on Drive"
      ]
    },
    {
      "cell_type": "code",
      "execution_count": null,
      "metadata": {
        "colab": {
          "base_uri": "https://localhost:8080/"
        },
        "id": "hAnvZNr-vxzP",
        "outputId": "93709cf1-43b8-479a-eb97-650a92f58ff9"
      },
      "outputs": [
        {
          "output_type": "stream",
          "name": "stdout",
          "text": [
            "Looking in indexes: https://pypi.org/simple, https://us-python.pkg.dev/colab-wheels/public/simple/\n",
            "Collecting opendatasets\n",
            "  Downloading opendatasets-0.1.22-py3-none-any.whl (15 kB)\n",
            "Requirement already satisfied: click in /usr/local/lib/python3.7/dist-packages (from opendatasets) (7.1.2)\n",
            "Requirement already satisfied: kaggle in /usr/local/lib/python3.7/dist-packages (from opendatasets) (1.5.12)\n",
            "Requirement already satisfied: tqdm in /usr/local/lib/python3.7/dist-packages (from opendatasets) (4.64.1)\n",
            "Requirement already satisfied: urllib3 in /usr/local/lib/python3.7/dist-packages (from kaggle->opendatasets) (1.24.3)\n",
            "Requirement already satisfied: requests in /usr/local/lib/python3.7/dist-packages (from kaggle->opendatasets) (2.23.0)\n",
            "Requirement already satisfied: python-dateutil in /usr/local/lib/python3.7/dist-packages (from kaggle->opendatasets) (2.8.2)\n",
            "Requirement already satisfied: python-slugify in /usr/local/lib/python3.7/dist-packages (from kaggle->opendatasets) (6.1.2)\n",
            "Requirement already satisfied: six>=1.10 in /usr/local/lib/python3.7/dist-packages (from kaggle->opendatasets) (1.15.0)\n",
            "Requirement already satisfied: certifi in /usr/local/lib/python3.7/dist-packages (from kaggle->opendatasets) (2022.9.24)\n",
            "Requirement already satisfied: text-unidecode>=1.3 in /usr/local/lib/python3.7/dist-packages (from python-slugify->kaggle->opendatasets) (1.3)\n",
            "Requirement already satisfied: chardet<4,>=3.0.2 in /usr/local/lib/python3.7/dist-packages (from requests->kaggle->opendatasets) (3.0.4)\n",
            "Requirement already satisfied: idna<3,>=2.5 in /usr/local/lib/python3.7/dist-packages (from requests->kaggle->opendatasets) (2.10)\n",
            "Installing collected packages: opendatasets\n",
            "Successfully installed opendatasets-0.1.22\n"
          ]
        }
      ],
      "source": [
        "# import sys\n",
        "\n",
        "# nb_path = '/content/notebooks'\n",
        "# os.symlink('/content/drive/My Drive/Colab Notebooks', nb_path)\n",
        "# sys.path.insert(0,nb_path)\n",
        "\n",
        "# # For once and forever:\n",
        "!pip install --target=$nb_path opendatasets"
      ]
    },
    {
      "cell_type": "markdown",
      "metadata": {
        "id": "mQmRReOoKpxh"
      },
      "source": [
        "# Import **DS2OS** Cybersec Data"
      ]
    },
    {
      "cell_type": "code",
      "execution_count": null,
      "metadata": {
        "colab": {
          "base_uri": "https://localhost:8080/"
        },
        "id": "shg8OeSrKeWp",
        "outputId": "f022bc54-1068-49a4-cec9-5e53be81c593"
      },
      "outputs": [
        {
          "output_type": "stream",
          "name": "stdout",
          "text": [
            "Skipping, found downloaded files in \"drive/MyDrive/datasets/cybersec/ds2ostraffictraces\" (use force=True to force download)\n"
          ]
        }
      ],
      "source": [
        "import os\n",
        "import zipfile\n",
        "import urllib\n",
        "import opendatasets as od\n",
        "import numpy as np\n",
        "\n",
        "CYBERSEC_URL = \"https://www.kaggle.com/datasets/francoisxa/ds2ostraffictraces/download?datasetVersionNumber=2\"\n",
        "CYBERSEC_PATH = os.path.join(\"drive\", \"MyDrive\", \"datasets\", \"cybersec\")\n",
        "# CYBERSEC_URL = DOWNLOAD_ROOT + \"datasets/cybersec/cybersec-DS2OS.zip\"\n",
        "\n",
        "def fetch_housing_data(cybersec_url=CYBERSEC_URL, cybersec_path=CYBERSEC_PATH):\n",
        "  os.makedirs(cybersec_path, exist_ok=True)\n",
        "  od.download(cybersec_url, data_dir=cybersec_path)\n",
        "\n",
        "fetch_housing_data()"
      ]
    },
    {
      "cell_type": "markdown",
      "metadata": {
        "id": "v6KJ1QgWQDXc"
      },
      "source": [
        "#Loading Data Using Pandas"
      ]
    },
    {
      "cell_type": "code",
      "execution_count": null,
      "metadata": {
        "colab": {
          "base_uri": "https://localhost:8080/"
        },
        "id": "ub02GnblQJmc",
        "outputId": "fc97ca6c-1ab2-4da9-f226-4f7dfb23b728"
      },
      "outputs": [
        {
          "output_type": "stream",
          "name": "stdout",
          "text": [
            "<class 'pandas.core.frame.DataFrame'>\n",
            "RangeIndex: 357952 entries, 0 to 357951\n",
            "Data columns (total 13 columns):\n",
            " #   Column                     Non-Null Count   Dtype \n",
            "---  ------                     --------------   ----- \n",
            " 0   sourceID                   357952 non-null  object\n",
            " 1   sourceAddress              357952 non-null  object\n",
            " 2   sourceType                 357952 non-null  object\n",
            " 3   sourceLocation             357952 non-null  object\n",
            " 4   destinationServiceAddress  357952 non-null  object\n",
            " 5   destinationServiceType     357952 non-null  object\n",
            " 6   destinationLocation        357952 non-null  object\n",
            " 7   accessedNodeAddress        357952 non-null  object\n",
            " 8   accessedNodeType           357804 non-null  object\n",
            " 9   operation                  357952 non-null  object\n",
            " 10  value                      355902 non-null  object\n",
            " 11  timestamp                  357952 non-null  int64 \n",
            " 12  normality                  357952 non-null  object\n",
            "dtypes: int64(1), object(12)\n",
            "memory usage: 35.5+ MB\n"
          ]
        }
      ],
      "source": [
        "%matplotlib inline\n",
        "import pandas as pd\n",
        "import matplotlib.pyplot as plt\n",
        "\n",
        "\n",
        "def load_cybersec_data(cybersec_path=CYBERSEC_PATH):\n",
        "  csv_path = os.path.join(cybersec_path, \"ds2ostraffictraces\",\n",
        "                          \"mainSimulationAccessTraces.csv\")\n",
        "  return pd.read_csv(csv_path)\n",
        "\n",
        "cybersec = load_cybersec_data()\n",
        "cybersec.info()\n",
        "# print(cybersec.head())\n",
        "# print(cybersec.describe())\n",
        "# count = 0\n",
        "# for attribute_ in cybersec.columns:\n",
        "#   cybersec[attribute_].hist()\n",
        "#   plt.xticks(rotation=45)\n",
        "#   plt.show()\n",
        "#   count += 1\n",
        "#   if count > 9:\n",
        "#     break"
      ]
    },
    {
      "cell_type": "markdown",
      "metadata": {
        "id": "rzK_I-cr5HrT"
      },
      "source": [
        "#Clean up empty fields (using Pandas)"
      ]
    },
    {
      "cell_type": "code",
      "execution_count": null,
      "metadata": {
        "colab": {
          "base_uri": "https://localhost:8080/"
        },
        "id": "tzkkgidz5Lyi",
        "outputId": "e6222f61-1ab7-4293-9b59-09c191f7e464"
      },
      "outputs": [
        {
          "output_type": "stream",
          "name": "stdout",
          "text": [
            "<class 'pandas.core.frame.DataFrame'>\n",
            "RangeIndex: 357952 entries, 0 to 357951\n",
            "Data columns (total 13 columns):\n",
            " #   Column                     Non-Null Count   Dtype \n",
            "---  ------                     --------------   ----- \n",
            " 0   sourceID                   357952 non-null  object\n",
            " 1   sourceAddress              357952 non-null  object\n",
            " 2   sourceType                 357952 non-null  object\n",
            " 3   sourceLocation             357952 non-null  object\n",
            " 4   destinationServiceAddress  357952 non-null  object\n",
            " 5   destinationServiceType     357952 non-null  object\n",
            " 6   destinationLocation        357952 non-null  object\n",
            " 7   accessedNodeAddress        357952 non-null  object\n",
            " 8   accessedNodeType           357804 non-null  object\n",
            " 9   operation                  357952 non-null  object\n",
            " 10  value                      355902 non-null  object\n",
            " 11  timestamp                  357952 non-null  int64 \n",
            " 12  normality                  357952 non-null  object\n",
            "dtypes: int64(1), object(12)\n",
            "memory usage: 35.5+ MB\n"
          ]
        },
        {
          "output_type": "stream",
          "name": "stderr",
          "text": [
            "/usr/local/lib/python3.7/dist-packages/ipykernel_launcher.py:3: FutureWarning: The pandas.np module is deprecated and will be removed from pandas in a future version. Import numpy directly instead\n",
            "  This is separate from the ipykernel package so we can avoid doing imports until\n",
            "/usr/local/lib/python3.7/dist-packages/ipykernel_launcher.py:4: FutureWarning: The pandas.np module is deprecated and will be removed from pandas in a future version. Import numpy directly instead\n",
            "  after removing the cwd from sys.path.\n"
          ]
        }
      ],
      "source": [
        "cybersec.info()\n",
        "# Replace empty strings with np.nan:\n",
        "cybersec['value'].replace('', pd.np.nan, inplace=True)\n",
        "cybersec['accessedNodeType'].replace('', pd.np.nan, inplace=True)\n",
        "\n",
        "# Remove empty entries from value and accessedNodeType:\n",
        "cybersec = cybersec.dropna(subset=['value','accessedNodeType'], how='any') # Drop all rows having empty values\n",
        "# cybersec.info()"
      ]
    },
    {
      "cell_type": "markdown",
      "metadata": {
        "id": "OX2hJEzaCkXn"
      },
      "source": [
        "#Encoding Text into Numerics"
      ]
    },
    {
      "cell_type": "code",
      "execution_count": null,
      "metadata": {
        "id": "dsmxa4vWCpgf"
      },
      "outputs": [],
      "source": [
        "from sklearn.preprocessing import OneHotEncoder, LabelEncoder, OrdinalEncoder\n",
        "\n",
        "text_features = ['sourceID', 'sourceAddress', 'sourceType', 'sourceLocation',\n",
        "                 'destinationServiceAddress', 'destinationServiceType',\n",
        "                 'destinationLocation', 'accessedNodeAddress', \n",
        "                 'accessedNodeType', 'operation', 'value']\n",
        "\n",
        "# Encoding labels:\n",
        "le = LabelEncoder()\n",
        "cybersec_normality = le.fit_transform(cybersec['normality'])\n",
        "\n",
        "# Convert it to dataframe: \n",
        "cybersec_normality = pd.DataFrame(cybersec_normality, index=cybersec.index)\n",
        "\n",
        "# OrdinalEncoding of features:\n",
        "oe_features = OrdinalEncoder()\n",
        "encoded_text = oe_features.fit_transform(cybersec[text_features])\n",
        "\n",
        "# Convert it to dataframe:\n",
        "encoded_text = pd.DataFrame(encoded_text, index=cybersec.index)\n",
        "\n",
        "# Add timestamp and normality back to the dataframe:\n",
        "encoded_text['timestamp'] = cybersec['timestamp'].copy()\n",
        "encoded_text['normality'] = cybersec_normality.copy()\n",
        "\n",
        "# cybersec = encoded_text.copy()\n",
        "\n",
        "# print(encoded_text)"
      ]
    },
    {
      "cell_type": "markdown",
      "metadata": {
        "id": "9B-P45tLghol"
      },
      "source": [
        "#Visualize Data Using PCA first "
      ]
    },
    {
      "cell_type": "code",
      "execution_count": null,
      "metadata": {
        "colab": {
          "base_uri": "https://localhost:8080/"
        },
        "id": "fIHPsmXggnl8",
        "outputId": "04441719-69e1-4157-e364-fc91498fd32a"
      },
      "outputs": [
        {
          "output_type": "stream",
          "name": "stderr",
          "text": [
            "/usr/local/lib/python3.7/dist-packages/sklearn/utils/validation.py:1692: FutureWarning: Feature names only support names that are all strings. Got feature names with dtypes: ['int', 'str']. An error will be raised in 1.2.\n",
            "  FutureWarning,\n"
          ]
        }
      ],
      "source": [
        "from sklearn.decomposition import PCA\n",
        "\n",
        "reduced_cybersec = encoded_text.drop(['normality'], axis=1)\n",
        "pca = PCA(n_components=3)\n",
        "reduced_cybersec = pca.fit_transform(reduced_cybersec)\n",
        "\n",
        "reduced_cybersec = pd.DataFrame(reduced_cybersec)\n",
        "reduced_cybersec[3] = encoded_text['normality'].copy()\n",
        "\n",
        "reduced_cybersec = reduced_cybersec[reduced_cybersec[3] != 7]\n",
        "\n",
        "reduced_cybersec.head()\n",
        "\n",
        "# reduced_cybersec.plot(kind='scatter', x=0, y=1,\n",
        "#                       alpha=0.4, label='Attack', figsize=(10,7), c=2,\n",
        "#                       cmap=plt.get_cmap(\"jet\"))\n",
        "\n",
        "# plt.legend()\n",
        "\n",
        "# sns.set(style='darkgrid')\n",
        "# fig = plt.figure(figsize=(10,10))\n",
        "# ax = Axes3D(fig)\n",
        "# fig.add_axes(ax)\n",
        "\n",
        "# cmap = ListedColormap(sns.color_palette(\"husl\", 256).as_hex())\n",
        "\n",
        "# x = reduced_cybersec[:,0]\n",
        "# y = reduced_cybersec[:,1]\n",
        "# z = encoded_text['normality'].copy()\n",
        "\n",
        "# ax.view_init(5, 30)\n",
        "# sc = ax.scatter(x, y, z, s=50, c=z, marker='o', cmap=cmap, alpha=0.8)\n",
        "\n",
        "# plt.legend(*sc.legend_elements(), bbox_to_anchor=(1.05, 1), loc=2)\n",
        "\n",
        "# ax.set_xlim()\n",
        "# ax.set_xlabel('Reduced Features X')\n",
        "# ax.set_ylabel('Reduced Features Y')\n",
        "# ax.set_zlabel('Normality')\n",
        "\n",
        "# plt.show()\n",
        "\n",
        "\n",
        "# !dir\n",
        "reduced_cybersec.to_csv('PCA_array.csv')\n",
        "\n"
      ]
    },
    {
      "cell_type": "markdown",
      "metadata": {
        "id": "oWFnJE86Faxt"
      },
      "source": [
        "#Perform Stratified Random Sampling of the Data"
      ]
    },
    {
      "cell_type": "code",
      "execution_count": null,
      "metadata": {
        "colab": {
          "base_uri": "https://localhost:8080/",
          "height": 665
        },
        "id": "ENxeDGzZGIsF",
        "outputId": "da27f209-50a9-4400-e21c-41b94e28d153"
      },
      "outputs": [
        {
          "name": "stdout",
          "output_type": "stream",
          "text": [
            "Frequency of each category in the test data:\n",
            "7    0.977592\n",
            "0    0.011239\n",
            "4    0.004299\n",
            "2    0.002501\n",
            "3    0.001854\n",
            "5    0.001503\n",
            "1    0.000674\n",
            "6    0.000337\n",
            "Name: normality, dtype: float64\n",
            "\n",
            "Frequency of each category in the original data:\n",
            "7    0.977598\n",
            "0    0.011239\n",
            "4    0.004302\n",
            "2    0.002498\n",
            "3    0.001846\n",
            "5    0.001495\n",
            "1    0.000680\n",
            "6    0.000343\n",
            "Name: normality, dtype: float64\n"
          ]
        },
        {
          "data": {
            "text/html": [
              "\n",
              "  <div id=\"df-6f4f71cf-00bd-4b80-af71-246c33ad0cb2\">\n",
              "    <div class=\"colab-df-container\">\n",
              "      <div>\n",
              "<style scoped>\n",
              "    .dataframe tbody tr th:only-of-type {\n",
              "        vertical-align: middle;\n",
              "    }\n",
              "\n",
              "    .dataframe tbody tr th {\n",
              "        vertical-align: top;\n",
              "    }\n",
              "\n",
              "    .dataframe thead th {\n",
              "        text-align: right;\n",
              "    }\n",
              "</style>\n",
              "<table border=\"1\" class=\"dataframe\">\n",
              "  <thead>\n",
              "    <tr style=\"text-align: right;\">\n",
              "      <th></th>\n",
              "      <th>0</th>\n",
              "      <th>1</th>\n",
              "      <th>2</th>\n",
              "      <th>3</th>\n",
              "      <th>4</th>\n",
              "      <th>5</th>\n",
              "      <th>6</th>\n",
              "      <th>7</th>\n",
              "      <th>8</th>\n",
              "      <th>9</th>\n",
              "      <th>10</th>\n",
              "      <th>timestamp</th>\n",
              "      <th>normality</th>\n",
              "    </tr>\n",
              "  </thead>\n",
              "  <tbody>\n",
              "    <tr>\n",
              "      <th>count</th>\n",
              "      <td>284721.000000</td>\n",
              "      <td>284721.000000</td>\n",
              "      <td>284721.000000</td>\n",
              "      <td>284721.000000</td>\n",
              "      <td>284721.000000</td>\n",
              "      <td>284721.000000</td>\n",
              "      <td>284721.000000</td>\n",
              "      <td>284721.000000</td>\n",
              "      <td>284721.000000</td>\n",
              "      <td>284721.000000</td>\n",
              "      <td>284721.000000</td>\n",
              "      <td>2.847210e+05</td>\n",
              "      <td>284721.000000</td>\n",
              "    </tr>\n",
              "    <tr>\n",
              "      <th>mean</th>\n",
              "      <td>38.189140</td>\n",
              "      <td>45.141728</td>\n",
              "      <td>2.741013</td>\n",
              "      <td>8.610598</td>\n",
              "      <td>41.995582</td>\n",
              "      <td>2.268389</td>\n",
              "      <td>8.688797</td>\n",
              "      <td>84.346149</td>\n",
              "      <td>3.475174</td>\n",
              "      <td>0.920610</td>\n",
              "      <td>5167.554272</td>\n",
              "      <td>1.520078e+12</td>\n",
              "      <td>6.881140</td>\n",
              "    </tr>\n",
              "    <tr>\n",
              "      <th>std</th>\n",
              "      <td>29.975368</td>\n",
              "      <td>27.787235</td>\n",
              "      <td>2.207749</td>\n",
              "      <td>5.512263</td>\n",
              "      <td>26.584197</td>\n",
              "      <td>1.766587</td>\n",
              "      <td>5.271983</td>\n",
              "      <td>52.684194</td>\n",
              "      <td>2.894956</td>\n",
              "      <td>1.383379</td>\n",
              "      <td>4482.005098</td>\n",
              "      <td>2.473651e+07</td>\n",
              "      <td>0.835516</td>\n",
              "    </tr>\n",
              "    <tr>\n",
              "      <th>min</th>\n",
              "      <td>0.000000</td>\n",
              "      <td>0.000000</td>\n",
              "      <td>0.000000</td>\n",
              "      <td>0.000000</td>\n",
              "      <td>0.000000</td>\n",
              "      <td>0.000000</td>\n",
              "      <td>0.000000</td>\n",
              "      <td>0.000000</td>\n",
              "      <td>0.000000</td>\n",
              "      <td>0.000000</td>\n",
              "      <td>0.000000</td>\n",
              "      <td>1.520032e+12</td>\n",
              "      <td>0.000000</td>\n",
              "    </tr>\n",
              "    <tr>\n",
              "      <th>25%</th>\n",
              "      <td>15.000000</td>\n",
              "      <td>16.000000</td>\n",
              "      <td>2.000000</td>\n",
              "      <td>5.000000</td>\n",
              "      <td>15.000000</td>\n",
              "      <td>0.000000</td>\n",
              "      <td>5.000000</td>\n",
              "      <td>31.000000</td>\n",
              "      <td>0.000000</td>\n",
              "      <td>0.000000</td>\n",
              "      <td>2.000000</td>\n",
              "      <td>1.520056e+12</td>\n",
              "      <td>7.000000</td>\n",
              "    </tr>\n",
              "    <tr>\n",
              "      <th>50%</th>\n",
              "      <td>29.000000</td>\n",
              "      <td>45.000000</td>\n",
              "      <td>2.000000</td>\n",
              "      <td>8.000000</td>\n",
              "      <td>42.000000</td>\n",
              "      <td>3.000000</td>\n",
              "      <td>7.000000</td>\n",
              "      <td>84.000000</td>\n",
              "      <td>3.000000</td>\n",
              "      <td>0.000000</td>\n",
              "      <td>5187.000000</td>\n",
              "      <td>1.520080e+12</td>\n",
              "      <td>7.000000</td>\n",
              "    </tr>\n",
              "    <tr>\n",
              "      <th>75%</th>\n",
              "      <td>71.000000</td>\n",
              "      <td>73.000000</td>\n",
              "      <td>4.000000</td>\n",
              "      <td>12.000000</td>\n",
              "      <td>71.000000</td>\n",
              "      <td>4.000000</td>\n",
              "      <td>12.000000</td>\n",
              "      <td>140.000000</td>\n",
              "      <td>7.000000</td>\n",
              "      <td>3.000000</td>\n",
              "      <td>10594.000000</td>\n",
              "      <td>1.520099e+12</td>\n",
              "      <td>7.000000</td>\n",
              "    </tr>\n",
              "    <tr>\n",
              "      <th>max</th>\n",
              "      <td>83.000000</td>\n",
              "      <td>88.000000</td>\n",
              "      <td>7.000000</td>\n",
              "      <td>20.000000</td>\n",
              "      <td>83.000000</td>\n",
              "      <td>7.000000</td>\n",
              "      <td>20.000000</td>\n",
              "      <td>166.000000</td>\n",
              "      <td>10.000000</td>\n",
              "      <td>3.000000</td>\n",
              "      <td>10622.000000</td>\n",
              "      <td>1.520118e+12</td>\n",
              "      <td>7.000000</td>\n",
              "    </tr>\n",
              "  </tbody>\n",
              "</table>\n",
              "</div>\n",
              "      <button class=\"colab-df-convert\" onclick=\"convertToInteractive('df-6f4f71cf-00bd-4b80-af71-246c33ad0cb2')\"\n",
              "              title=\"Convert this dataframe to an interactive table.\"\n",
              "              style=\"display:none;\">\n",
              "        \n",
              "  <svg xmlns=\"http://www.w3.org/2000/svg\" height=\"24px\"viewBox=\"0 0 24 24\"\n",
              "       width=\"24px\">\n",
              "    <path d=\"M0 0h24v24H0V0z\" fill=\"none\"/>\n",
              "    <path d=\"M18.56 5.44l.94 2.06.94-2.06 2.06-.94-2.06-.94-.94-2.06-.94 2.06-2.06.94zm-11 1L8.5 8.5l.94-2.06 2.06-.94-2.06-.94L8.5 2.5l-.94 2.06-2.06.94zm10 10l.94 2.06.94-2.06 2.06-.94-2.06-.94-.94-2.06-.94 2.06-2.06.94z\"/><path d=\"M17.41 7.96l-1.37-1.37c-.4-.4-.92-.59-1.43-.59-.52 0-1.04.2-1.43.59L10.3 9.45l-7.72 7.72c-.78.78-.78 2.05 0 2.83L4 21.41c.39.39.9.59 1.41.59.51 0 1.02-.2 1.41-.59l7.78-7.78 2.81-2.81c.8-.78.8-2.07 0-2.86zM5.41 20L4 18.59l7.72-7.72 1.47 1.35L5.41 20z\"/>\n",
              "  </svg>\n",
              "      </button>\n",
              "      \n",
              "  <style>\n",
              "    .colab-df-container {\n",
              "      display:flex;\n",
              "      flex-wrap:wrap;\n",
              "      gap: 12px;\n",
              "    }\n",
              "\n",
              "    .colab-df-convert {\n",
              "      background-color: #E8F0FE;\n",
              "      border: none;\n",
              "      border-radius: 50%;\n",
              "      cursor: pointer;\n",
              "      display: none;\n",
              "      fill: #1967D2;\n",
              "      height: 32px;\n",
              "      padding: 0 0 0 0;\n",
              "      width: 32px;\n",
              "    }\n",
              "\n",
              "    .colab-df-convert:hover {\n",
              "      background-color: #E2EBFA;\n",
              "      box-shadow: 0px 1px 2px rgba(60, 64, 67, 0.3), 0px 1px 3px 1px rgba(60, 64, 67, 0.15);\n",
              "      fill: #174EA6;\n",
              "    }\n",
              "\n",
              "    [theme=dark] .colab-df-convert {\n",
              "      background-color: #3B4455;\n",
              "      fill: #D2E3FC;\n",
              "    }\n",
              "\n",
              "    [theme=dark] .colab-df-convert:hover {\n",
              "      background-color: #434B5C;\n",
              "      box-shadow: 0px 1px 3px 1px rgba(0, 0, 0, 0.15);\n",
              "      filter: drop-shadow(0px 1px 2px rgba(0, 0, 0, 0.3));\n",
              "      fill: #FFFFFF;\n",
              "    }\n",
              "  </style>\n",
              "\n",
              "      <script>\n",
              "        const buttonEl =\n",
              "          document.querySelector('#df-6f4f71cf-00bd-4b80-af71-246c33ad0cb2 button.colab-df-convert');\n",
              "        buttonEl.style.display =\n",
              "          google.colab.kernel.accessAllowed ? 'block' : 'none';\n",
              "\n",
              "        async function convertToInteractive(key) {\n",
              "          const element = document.querySelector('#df-6f4f71cf-00bd-4b80-af71-246c33ad0cb2');\n",
              "          const dataTable =\n",
              "            await google.colab.kernel.invokeFunction('convertToInteractive',\n",
              "                                                     [key], {});\n",
              "          if (!dataTable) return;\n",
              "\n",
              "          const docLinkHtml = 'Like what you see? Visit the ' +\n",
              "            '<a target=\"_blank\" href=https://colab.research.google.com/notebooks/data_table.ipynb>data table notebook</a>'\n",
              "            + ' to learn more about interactive tables.';\n",
              "          element.innerHTML = '';\n",
              "          dataTable['output_type'] = 'display_data';\n",
              "          await google.colab.output.renderOutput(dataTable, element);\n",
              "          const docLink = document.createElement('div');\n",
              "          docLink.innerHTML = docLinkHtml;\n",
              "          element.appendChild(docLink);\n",
              "        }\n",
              "      </script>\n",
              "    </div>\n",
              "  </div>\n",
              "  "
            ],
            "text/plain": [
              "                   0              1              2              3  \\\n",
              "count  284721.000000  284721.000000  284721.000000  284721.000000   \n",
              "mean       38.189140      45.141728       2.741013       8.610598   \n",
              "std        29.975368      27.787235       2.207749       5.512263   \n",
              "min         0.000000       0.000000       0.000000       0.000000   \n",
              "25%        15.000000      16.000000       2.000000       5.000000   \n",
              "50%        29.000000      45.000000       2.000000       8.000000   \n",
              "75%        71.000000      73.000000       4.000000      12.000000   \n",
              "max        83.000000      88.000000       7.000000      20.000000   \n",
              "\n",
              "                   4              5              6              7  \\\n",
              "count  284721.000000  284721.000000  284721.000000  284721.000000   \n",
              "mean       41.995582       2.268389       8.688797      84.346149   \n",
              "std        26.584197       1.766587       5.271983      52.684194   \n",
              "min         0.000000       0.000000       0.000000       0.000000   \n",
              "25%        15.000000       0.000000       5.000000      31.000000   \n",
              "50%        42.000000       3.000000       7.000000      84.000000   \n",
              "75%        71.000000       4.000000      12.000000     140.000000   \n",
              "max        83.000000       7.000000      20.000000     166.000000   \n",
              "\n",
              "                   8              9             10     timestamp  \\\n",
              "count  284721.000000  284721.000000  284721.000000  2.847210e+05   \n",
              "mean        3.475174       0.920610    5167.554272  1.520078e+12   \n",
              "std         2.894956       1.383379    4482.005098  2.473651e+07   \n",
              "min         0.000000       0.000000       0.000000  1.520032e+12   \n",
              "25%         0.000000       0.000000       2.000000  1.520056e+12   \n",
              "50%         3.000000       0.000000    5187.000000  1.520080e+12   \n",
              "75%         7.000000       3.000000   10594.000000  1.520099e+12   \n",
              "max        10.000000       3.000000   10622.000000  1.520118e+12   \n",
              "\n",
              "           normality  \n",
              "count  284721.000000  \n",
              "mean        6.881140  \n",
              "std         0.835516  \n",
              "min         0.000000  \n",
              "25%         7.000000  \n",
              "50%         7.000000  \n",
              "75%         7.000000  \n",
              "max         7.000000  "
            ]
          },
          "execution_count": 7,
          "metadata": {},
          "output_type": "execute_result"
        }
      ],
      "source": [
        "from sklearn.model_selection import StratifiedShuffleSplit\n",
        "\n",
        "split = StratifiedShuffleSplit(n_splits=1, test_size=0.2, random_state=1)\n",
        "for train_index, test_index in split.split(encoded_text, \n",
        "                                           encoded_text['normality']):\n",
        "  strat_train_set = encoded_text.iloc[train_index] \n",
        "  strat_test_set = encoded_text.iloc[test_index]\n",
        "\n",
        "print('Frequency of each category in the test data:\\n{}'.format(\n",
        "    strat_test_set['normality'].value_counts()/len(strat_test_set)))\n",
        "print('\\nFrequency of each category in the original data:\\n{}'.format(\n",
        "    encoded_text['normality'].value_counts()/len(encoded_text)))\n",
        "\n",
        "strat_train_set.describe()"
      ]
    },
    {
      "cell_type": "markdown",
      "metadata": {
        "id": "Fqb3kDFJcuK9"
      },
      "source": [
        "#Split Features from Labels"
      ]
    },
    {
      "cell_type": "code",
      "execution_count": null,
      "metadata": {
        "id": "D08ANEixcwsP"
      },
      "outputs": [],
      "source": [
        "cybersec_training_features = strat_train_set.drop('normality', axis=1)\n",
        "cybersec_training_labels = strat_train_set['normality'].copy()"
      ]
    },
    {
      "cell_type": "markdown",
      "metadata": {
        "id": "wqqORRcsSXuo"
      },
      "source": [
        "#Feature Scaling of Training Data:"
      ]
    },
    {
      "cell_type": "code",
      "execution_count": null,
      "metadata": {
        "colab": {
          "base_uri": "https://localhost:8080/"
        },
        "id": "dpPdHIiZSfgB",
        "outputId": "c3f329b1-7ef9-437d-800d-beea87e404ab"
      },
      "outputs": [
        {
          "name": "stderr",
          "output_type": "stream",
          "text": [
            "/usr/local/lib/python3.7/dist-packages/sklearn/utils/validation.py:1692: FutureWarning: Feature names only support names that are all strings. Got feature names with dtypes: ['int', 'str']. An error will be raised in 1.2.\n",
            "  FutureWarning,\n",
            "/usr/local/lib/python3.7/dist-packages/sklearn/utils/validation.py:1692: FutureWarning: Feature names only support names that are all strings. Got feature names with dtypes: ['int', 'str']. An error will be raised in 1.2.\n",
            "  FutureWarning,\n"
          ]
        },
        {
          "name": "stdout",
          "output_type": "stream",
          "text": [
            "171561    7\n",
            "255781    7\n",
            "345456    7\n",
            "298307    0\n",
            "271103    7\n",
            "         ..\n",
            "335249    7\n",
            "225563    7\n",
            "155548    7\n",
            "60749     7\n",
            "306445    7\n",
            "Name: normality, Length: 284721, dtype: int64\n",
            "                  0              1              2              3   \\\n",
            "count  284721.000000  284721.000000  284721.000000  284721.000000   \n",
            "mean        0.460110       0.512974       0.391573       0.430530   \n",
            "std         0.361149       0.315764       0.315393       0.275613   \n",
            "min         0.000000       0.000000       0.000000       0.000000   \n",
            "25%         0.180723       0.181818       0.285714       0.250000   \n",
            "50%         0.349398       0.511364       0.285714       0.400000   \n",
            "75%         0.855422       0.829545       0.571429       0.600000   \n",
            "max         1.000000       1.000000       1.000000       1.000000   \n",
            "\n",
            "                  4              5              6              7   \\\n",
            "count  284721.000000  284721.000000  284721.000000  284721.000000   \n",
            "mean        0.505971       0.324056       0.434440       0.508109   \n",
            "std         0.320292       0.252370       0.263599       0.317375   \n",
            "min         0.000000       0.000000       0.000000       0.000000   \n",
            "25%         0.180723       0.000000       0.250000       0.186747   \n",
            "50%         0.506024       0.428571       0.350000       0.506024   \n",
            "75%         0.855422       0.571429       0.600000       0.843373   \n",
            "max         1.000000       1.000000       1.000000       1.000000   \n",
            "\n",
            "                  8              9              10             11  \n",
            "count  284721.000000  284721.000000  284721.000000  284721.000000  \n",
            "mean        0.347517       0.306870       0.486495       0.532326  \n",
            "std         0.289496       0.461126       0.421955       0.286317  \n",
            "min         0.000000       0.000000       0.000000       0.000000  \n",
            "25%         0.000000       0.000000       0.000188       0.286969  \n",
            "50%         0.300000       0.000000       0.488326       0.555195  \n",
            "75%         0.700000       1.000000       0.997364       0.779482  \n",
            "max         1.000000       1.000000       1.000000       1.000000  \n"
          ]
        }
      ],
      "source": [
        "from sklearn.preprocessing import MinMaxScaler\n",
        "\n",
        "# From now on, we work on the training data only:\n",
        "minmax_scaler = MinMaxScaler()\n",
        "\n",
        "strat_train_scaled = pd.DataFrame(minmax_scaler.fit_transform(\n",
        "    cybersec_training_features))\n",
        "\n",
        "cybersec_training_features = strat_train_scaled.copy()\n",
        "\n",
        "print(cybersec_training_labels)\n",
        "print(cybersec_training_features.describe())"
      ]
    },
    {
      "cell_type": "markdown",
      "metadata": {
        "id": "BgVS7UFV9GXL"
      },
      "source": [
        "#Creating ML Model Objects"
      ]
    },
    {
      "cell_type": "code",
      "execution_count": null,
      "metadata": {
        "id": "InWrNU5T9NN8"
      },
      "outputs": [],
      "source": [
        "from sklearn.svm import SVC\n",
        "from sklearn.neighbors import KNeighborsClassifier\n",
        "from sklearn.tree import DecisionTreeClassifier\n",
        "from sklearn.ensemble import RandomForestClassifier\n",
        "from sklearn.neural_network import MLPClassifier\n",
        "\n",
        "# knn = KNeighborsClassifier() #untuned\n",
        "# knn = KNeighborsClassifier(n_neighbors=50, leaf_size=50) #tuned\n",
        "\n",
        "svc = SVC(kernel='poly', degree=5)\n",
        "\n",
        "# dt = DecisionTreeClassifier()\n",
        "\n",
        "# rf = RandomForestClassifier()\n",
        "\n",
        "# mlp = MLPClassifier()"
      ]
    },
    {
      "cell_type": "markdown",
      "metadata": {
        "id": "ahcDiRJKGYaD"
      },
      "source": [
        "#Tuning Hyperparameters"
      ]
    },
    {
      "cell_type": "code",
      "execution_count": null,
      "metadata": {
        "id": "gxrxcJJ_GbVq"
      },
      "outputs": [],
      "source": [
        "from sklearn.model_selection import GridSearchCV\n",
        "\n",
        "# # KNN algorithm:\n",
        "# knn_param_grid = [{'n_neighbors':[2, 3, 5], \n",
        "#                    'leaf_size':[5, 10, 15]}]\n",
        "# knn_grid_search = GridSearchCV(knn, knn_param_grid, cv=5,\n",
        "#                            scoring='neg_mean_squared_error', return_train_score=True)\n",
        "# knn_grid_search.fit(cybersec_training_features, cybersec_training_labels)\n",
        "\n",
        "# print(knn_grid_search.best_estimator_)\n",
        "# print(knn_grid_search.best_params_)\n",
        "\n",
        "# cvres = knn_grid_search.cv_results_\n",
        "# # print(cvres['mean_test_score'])\n",
        "# print(np.sqrt(-cvres[\"mean_test_score\"]).min()) # = 48834.299 less than that\n",
        "\n",
        "\n",
        "# # SVC algorithm:\n",
        "# svc_param_grid = [{'kernel':['linear', 'poly', 'rbf'], \n",
        "#                    'degree':[2, 3, 5]}]\n",
        "# svc_grid_search = GridSearchCV(svc, svc_param_grid, cv=5,\n",
        "#                            scoring='neg_mean_squared_error', return_train_score=True)\n",
        "# svc_grid_search.fit(cybersec_training_features, cybersec_training_labels)\n",
        "\n",
        "# print(svc_grid_search.best_estimator_)\n",
        "# print(svc_grid_search.best_params_)\n",
        "\n",
        "# cvres = svc_grid_search.cv_results_\n",
        "# # print(cvres['mean_test_score'])\n",
        "# print(np.sqrt(-cvres[\"mean_test_score\"]).min()) # = 48834.299 less than that"
      ]
    },
    {
      "cell_type": "markdown",
      "metadata": {
        "id": "0WUeMalQsQFK"
      },
      "source": [
        "#Use Cross Validation to Split The Training Set"
      ]
    },
    {
      "cell_type": "code",
      "execution_count": null,
      "metadata": {
        "colab": {
          "base_uri": "https://localhost:8080/",
          "height": 235
        },
        "id": "IKhpRYolsZRw",
        "outputId": "b1393c75-9ade-4345-b4e4-54fe88fbaaec"
      },
      "outputs": [
        {
          "ename": "NameError",
          "evalue": "ignored",
          "output_type": "error",
          "traceback": [
            "\u001b[0;31m---------------------------------------------------------------------------\u001b[0m",
            "\u001b[0;31mNameError\u001b[0m                                 Traceback (most recent call last)",
            "\u001b[0;32m<ipython-input-1-04f3099550dc>\u001b[0m in \u001b[0;36m<module>\u001b[0;34m\u001b[0m\n\u001b[1;32m     11\u001b[0m \u001b[0;34m\u001b[0m\u001b[0m\n\u001b[1;32m     12\u001b[0m \u001b[0;31m# for the SVM Classifier:\u001b[0m\u001b[0;34m\u001b[0m\u001b[0;34m\u001b[0m\u001b[0;34m\u001b[0m\u001b[0m\n\u001b[0;32m---> 13\u001b[0;31m scores = cross_val_score(svc, cybersec_training_features, cybersec_training_labels,\n\u001b[0m\u001b[1;32m     14\u001b[0m                          scoring=\"neg_mean_squared_error\", cv=5)\n\u001b[1;32m     15\u001b[0m \u001b[0;34m\u001b[0m\u001b[0m\n",
            "\u001b[0;31mNameError\u001b[0m: name 'svc' is not defined"
          ]
        }
      ],
      "source": [
        "from sklearn.model_selection import cross_val_score\n",
        "\n",
        "# # for the KNN Classifier:\n",
        "# scores = cross_val_score(knn, cybersec_training_features, cybersec_training_labels,\n",
        "#                          scoring=\"neg_mean_squared_error\", cv=5)\n",
        "\n",
        "# knn_rmse_scores = np.sqrt(-scores)\n",
        "\n",
        "# print('Scores: {}\\nMean: {}\\nStandard deviation: {}'.format(\n",
        "#     knn_rmse_scores, knn_rmse_scores.mean(), knn_rmse_scores.std()))\n",
        "\n",
        "# for the SVM Classifier:\n",
        "scores = cross_val_score(svc, cybersec_training_features, cybersec_training_labels,\n",
        "                         scoring=\"neg_mean_squared_error\", cv=5)\n",
        "\n",
        "svc_rmse_scores = np.sqrt(-scores)\n",
        "\n",
        "print('Scores: {}\\nMean: {}\\nStandard deviation: {}'.format(\n",
        "    svc_rmse_scores, svc_rmse_scores.mean(), svc_rmse_scores.std()))\n",
        "\n",
        "# # for the DT Classifier:\n",
        "# scores = cross_val_score(dt, cybersec_training_features, cybersec_training_labels,\n",
        "#                          scoring=\"neg_mean_squared_error\", cv=5)\n",
        "\n",
        "# dt_rmse_scores = np.sqrt(-scores)\n",
        "\n",
        "# print('Scores: {}\\nMean: {}\\nStandard deviation: {}'.format(\n",
        "#     dt_rmse_scores, dt_rmse_scores.mean(), dt_rmse_scores.std()))\n",
        "\n",
        "# # for the RF Classifier:\n",
        "# scores = cross_val_score(rf, cybersec_training_features, cybersec_training_labels,\n",
        "#                          scoring=\"neg_mean_squared_error\", cv=5)\n",
        "\n",
        "# rf_rmse_scores = np.sqrt(-scores)\n",
        "\n",
        "# print('Scores: {}\\nMean: {}\\nStandard deviation: {}'.format(\n",
        "#     rf_rmse_scores, rf_rmse_scores.mean(), rf_rmse_scores.std()))\n",
        "\n",
        "# # for the MLP Classifier:\n",
        "# scores = cross_val_score(mlp, cybersec_training_features, cybersec_training_labels,\n",
        "#                          scoring=\"neg_mean_squared_error\", cv=5)\n",
        "\n",
        "# mlp_rmse_scores = np.sqrt(-scores)\n",
        "\n",
        "# print('Scores: {}\\nMean: {}\\nStandard deviation: {}'.format(\n",
        "#     mlp_rmse_scores, mlp_rmse_scores.mean(), mlp_rmse_scores.std()))"
      ]
    },
    {
      "cell_type": "markdown",
      "metadata": {
        "id": "DbBH46lppY3o"
      },
      "source": [
        "#Asses the Model:"
      ]
    },
    {
      "cell_type": "code",
      "execution_count": null,
      "metadata": {
        "id": "8nt2ZOqzbE1X"
      },
      "outputs": [],
      "source": [
        "from sklearn.model_selection import cross_val_predict\n",
        "from sklearn.metrics import confusion_matrix\n",
        "from sklearn.metrics import precision_score, recall_score\n",
        "from sklearn.metrics import precision_score, recall_score, f1_score, accuracy_score\n",
        "\n",
        "# # Asses the KNN model:\n",
        "# predictions = cross_val_predict(knn, cybersec_training_features,\n",
        "#                                 cybersec_training_labels, cv=5)\n",
        "\n",
        "# Asses the SVM model:\n",
        "predictions = cross_val_predict(svc, cybersec_training_features,\n",
        "                                cybersec_training_labels, cv=5)\n",
        "\n",
        "# # Asses the DT model:\n",
        "# predictions = cross_val_predict(dt, cybersec_training_features,\n",
        "#                                 cybersec_training_labels, cv=5)\n",
        "\n",
        "# # Asses the RF model:\n",
        "# predictions = cross_val_predict(rf, cybersec_training_features,\n",
        "#                                 cybersec_training_labels, cv=5)\n",
        "\n",
        "# # Asses the MLP model:\n",
        "# predictions = cross_val_predict(mlp, cybersec_training_features,\n",
        "#                                 cybersec_training_labels, cv=5)"
      ]
    },
    {
      "cell_type": "markdown",
      "metadata": {
        "id": "GU67N8AfvFRM"
      },
      "source": [
        "###Show Metrics:"
      ]
    },
    {
      "cell_type": "code",
      "execution_count": null,
      "metadata": {
        "colab": {
          "base_uri": "https://localhost:8080/",
          "height": 961
        },
        "id": "43lSrBtVuu0d",
        "outputId": "5f807ab6-76d1-4e10-83cb-86e77a21f9e0"
      },
      "outputs": [
        {
          "name": "stdout",
          "output_type": "stream",
          "text": [
            "[[  1614      0      0      0      0      0      0   1586]\n",
            " [     0    194      0      0      0      0      0      0]\n",
            " [     0      0    711      0      0      0      0      0]\n",
            " [     0      0      0    525      0      0      0      0]\n",
            " [     0      0      0      0   1171      0      0     54]\n",
            " [     0      0      0      0      0    425      0      0]\n",
            " [     0      0      0      0      0      0     98      0]\n",
            " [     3      0      0      0      1      1      3 278335]] \n",
            "\n"
          ]
        },
        {
          "data": {
            "image/png": "[encoded data removed]",
            "text/plain": [
              "<Figure size 720x720 with 2 Axes>"
            ]
          },
          "metadata": {},
          "output_type": "display_data"
        },
        {
          "name": "stdout",
          "output_type": "stream",
          "text": [
            "\n",
            "F1 Score: 0.9534973873266921\n",
            "Precision: 0.9949229270136473\n",
            "Recall: 0.9325330782287722\n",
            "Accuracy: 0.9942118775924501\n"
          ]
        }
      ],
      "source": [
        "# Get confusion matrix, then normalize it:\n",
        "conf_matrix = confusion_matrix(cybersec_training_labels, predictions)\n",
        "print(conf_matrix, '\\n')\n",
        "\n",
        "conf_matrix_n = conf_matrix.astype('float') / conf_matrix.sum(axis=1)[:, np.newaxis]\n",
        "fig, ax = plt.subplots(figsize=(10,10))\n",
        "sns.heatmap(conf_matrix_n, annot=True, fmt='.2f', cmap='YlGnBu',\n",
        "            xticklabels=le.classes_, yticklabels=le.classes_)\n",
        "plt.ylabel('Actual')\n",
        "plt.xlabel('Predicted')\n",
        "plt.xticks(rotation=45)\n",
        "plt.show(block=False)\n",
        "\n",
        "print('\\nF1 Score: {}'.format(\n",
        "    f1_score(cybersec_training_labels, predictions, average='macro')))\n",
        "print('Precision: {}'.format(\n",
        "    precision_score(cybersec_training_labels, predictions, average='macro')))\n",
        "print('Recall: {}'.format(\n",
        "    recall_score(cybersec_training_labels, predictions, average='macro')))\n",
        "print('Accuracy: {}'.format(\n",
        "    accuracy_score(cybersec_training_labels, predictions, )))"
      ]
    },
    {
      "cell_type": "markdown",
      "metadata": {
        "id": "cjxlOEgSpev5"
      },
      "source": [
        "#Train the Model:"
      ]
    },
    {
      "cell_type": "code",
      "execution_count": null,
      "metadata": {
        "colab": {
          "base_uri": "https://localhost:8080/"
        },
        "id": "rGJ6nddOdyLC",
        "outputId": "0f577123-859c-4684-ba7e-eccd279f6004"
      },
      "outputs": [
        {
          "data": {
            "text/plain": [
              "SVC(degree=5, kernel='poly')"
            ]
          },
          "execution_count": 14,
          "metadata": {},
          "output_type": "execute_result"
        }
      ],
      "source": [
        "# # KNN model:\n",
        "# knn.fit(cybersec_training_features, cybersec_training_labels)\n",
        "\n",
        "# SVM model:\n",
        "svc.fit(cybersec_training_features, cybersec_training_labels)\n",
        "\n",
        "# # DT model:\n",
        "# dt.fit(cybersec_training_features, cybersec_training_labels)\n",
        "\n",
        "# # RF model:\n",
        "# rf.fit(cybersec_training_features, cybersec_training_labels)\n",
        "\n",
        "# # MLP model:\n",
        "# mlp.fit(cybersec_training_features, cybersec_training_labels)"
      ]
    },
    {
      "cell_type": "markdown",
      "metadata": {
        "id": "QiVZgLlWzX6y"
      },
      "source": [
        "#Test Our Model:"
      ]
    },
    {
      "cell_type": "markdown",
      "metadata": {
        "id": "1vfBB6Iom2H5"
      },
      "source": [
        "###Split Labels and Scale Features Accordingly"
      ]
    },
    {
      "cell_type": "code",
      "execution_count": null,
      "metadata": {
        "colab": {
          "base_uri": "https://localhost:8080/"
        },
        "id": "T3IFrrPmlPnw",
        "outputId": "135ff549-560f-4c9a-c562-1a9dcf62c552"
      },
      "outputs": [
        {
          "name": "stdout",
          "output_type": "stream",
          "text": [
            "                 0             1             2             3             4   \\\n",
            "count  71181.000000  71181.000000  71181.000000  71181.000000  71181.000000   \n",
            "mean       0.463422      0.512982      0.393391      0.429723      0.512198   \n",
            "std        0.360629      0.315856      0.314257      0.275850      0.323966   \n",
            "min        0.000000      0.000000      0.000000      0.000000      0.000000   \n",
            "25%        0.180723      0.181818      0.285714      0.250000      0.182927   \n",
            "50%        0.349398      0.511364      0.285714      0.400000      0.512195   \n",
            "75%        0.855422      0.829545      0.571429      0.600000      0.865854   \n",
            "max        1.000000      1.000000      1.000000      1.000000      1.000000   \n",
            "\n",
            "                 5             6             7             8             9   \\\n",
            "count  71181.000000  71181.000000  71181.000000  71181.000000  71181.000000   \n",
            "mean       0.380989      0.434412      0.508286      0.389595      0.312036   \n",
            "std        0.294184      0.263423      0.321038      0.322116      0.463284   \n",
            "min        0.000000      0.000000      0.000000      0.000000      0.000000   \n",
            "25%        0.000000      0.250000      0.182927      0.000000      0.000000   \n",
            "50%        0.500000      0.350000      0.506098      0.333333      0.000000   \n",
            "75%        0.666667      0.600000      0.847561      0.777778      1.000000   \n",
            "max        1.000000      1.000000      1.000000      1.000000      1.000000   \n",
            "\n",
            "                 10            11  \n",
            "count  71181.000000  71181.000000  \n",
            "mean       0.484591      0.533163  \n",
            "std        0.420561      0.285322  \n",
            "min        0.000000      0.000000  \n",
            "25%        0.000188      0.289686  \n",
            "50%        0.478723      0.555682  \n",
            "75%        0.997364      0.778762  \n",
            "max        1.000000      1.000000  \n",
            "290690    7\n",
            "288050    7\n",
            "261294    7\n",
            "346614    7\n",
            "216677    7\n",
            "         ..\n",
            "139475    7\n",
            "128105    7\n",
            "354913    7\n",
            "64671     7\n",
            "214918    7\n",
            "Name: normality, Length: 71181, dtype: int64\n"
          ]
        }
      ],
      "source": [
        "# Split labels from features:\n",
        "\n",
        "cybersec_testing_features = strat_test_set.drop('normality', axis=1)\n",
        "cybersec_testing_labels = strat_test_set['normality'].copy()\n",
        "\n",
        "# Adjust column headers:\n",
        "cybersec_testing_features.columns = range(cybersec_testing_features.shape[1])\n",
        "\n",
        "minmax_scaler = MinMaxScaler()\n",
        "\n",
        "# Scale features:\n",
        "strat_test_scaled = pd.DataFrame(minmax_scaler.fit_transform(\n",
        "    cybersec_testing_features))\n",
        "\n",
        "cybersec_testing_features = strat_test_scaled.copy()\n",
        "\n",
        "print(cybersec_testing_features.describe())\n",
        "print(cybersec_testing_labels)"
      ]
    },
    {
      "cell_type": "markdown",
      "metadata": {
        "id": "jkeLeFc1nBXc"
      },
      "source": [
        "###Evaluate Our System on the Test Set:"
      ]
    },
    {
      "cell_type": "code",
      "execution_count": null,
      "metadata": {
        "id": "1g9OSOuSm_FT"
      },
      "outputs": [],
      "source": [
        "# # for the KNN model:\n",
        "# final_predictions = knn.predict(cybersec_testing_features)\n",
        "\n",
        "# for the SVM model:\n",
        "final_predictions = svc.predict(cybersec_testing_features)\n",
        "\n",
        "# # for the dt model:\n",
        "# final_predictions = dt.predict(cybersec_testing_features)\n",
        "\n",
        "# # for the RF model:\n",
        "# final_predictions = rf.predict(cybersec_testing_features)\n",
        "\n",
        "# # for the MLP model:\n",
        "# final_predictions = mlp.predict(cybersec_testing_features)"
      ]
    },
    {
      "cell_type": "markdown",
      "metadata": {
        "id": "vgjA_XckvynP"
      },
      "source": [
        "###Show Metrics:"
      ]
    },
    {
      "cell_type": "code",
      "execution_count": null,
      "metadata": {
        "colab": {
          "base_uri": "https://localhost:8080/",
          "height": 961
        },
        "id": "RJmKGHTcv3zD",
        "outputId": "5833de66-bc3c-4376-9f3d-96ca3bfe5144"
      },
      "outputs": [
        {
          "name": "stdout",
          "output_type": "stream",
          "text": [
            "[[    0     0     0     0     0     0     0   800]\n",
            " [    0    48     0     0     0     0     0     0]\n",
            " [    0     0   178     0     0     0     0     0]\n",
            " [    0     0     0   132     0     0     0     0]\n",
            " [    0     0     0     0   289     0     1    16]\n",
            " [    0     0     0     0     0   107     0     0]\n",
            " [    0     0     0     0     0     0    24     0]\n",
            " [   50     0     0   233    86     0     2 69215]] \n",
            "\n"
          ]
        },
        {
          "data": {
            "image/png": "[encoded data removed]",
            "text/plain": [
              "<Figure size 720x720 with 2 Axes>"
            ]
          },
          "metadata": {},
          "output_type": "display_data"
        },
        {
          "name": "stdout",
          "output_type": "stream",
          "text": [
            "\n",
            "F1 Score: 0.789076699856782\n",
            "Precision: 0.7511934260598269\n",
            "Recall: 0.8673891140299613\n",
            "Accuracy: 0.9942118775924501\n"
          ]
        }
      ],
      "source": [
        "# Get confusion matrix, then normalize it:\n",
        "conf_matrix = confusion_matrix(cybersec_testing_labels, final_predictions)\n",
        "print(conf_matrix, '\\n')\n",
        "\n",
        "conf_matrix_n = conf_matrix.astype('float') / conf_matrix.sum(axis=1)[:, np.newaxis]\n",
        "fig, ax = plt.subplots(figsize=(10,10))\n",
        "sns.heatmap(conf_matrix_n, annot=True, fmt='.2f', cmap='YlGnBu',\n",
        "            xticklabels=le.classes_, yticklabels=le.classes_)\n",
        "plt.ylabel('Actual')\n",
        "plt.xlabel('Predicted')\n",
        "plt.xticks(rotation=45)\n",
        "plt.show(block=False)\n",
        "\n",
        "print('\\nF1 Score: {}'.format(\n",
        "    f1_score(cybersec_testing_labels, final_predictions, average='macro')))\n",
        "print('Precision: {}'.format(\n",
        "    precision_score(cybersec_testing_labels, final_predictions, average='macro')))\n",
        "print('Recall: {}'.format(\n",
        "    recall_score(cybersec_testing_labels, final_predictions, average='macro')))\n",
        "print('Accuracy: {}'.format(\n",
        "    accuracy_score(cybersec_training_labels, predictions, )))"
      ]
    },
    {
      "cell_type": "markdown",
      "metadata": {
        "id": "N5Vr_7u5D5vA"
      },
      "source": [
        "# Display Features Importances"
      ]
    },
    {
      "cell_type": "code",
      "execution_count": null,
      "metadata": {
        "id": "tq0T2DRs3xIk"
      },
      "outputs": [],
      "source": [
        "feature_importances = grid_search.best_estimator_.feature_importances_\n",
        "# print(feature_importances)\n",
        "attributes = num_attrib + cat_attrib\n",
        "print(sorted(zip(feature_importances, attributes), reverse=True))\n"
      ]
    },
    {
      "cell_type": "markdown",
      "metadata": {
        "id": "e6MKSj31NKes"
      },
      "source": [
        "###Compute 95% Confidence Interval"
      ]
    },
    {
      "cell_type": "code",
      "execution_count": null,
      "metadata": {
        "id": "6B-pweOCNP-N"
      },
      "outputs": [],
      "source": [
        "from scipy import stats\n",
        "\n",
        "confidence = 0.95\n",
        "squared_errors = (final_predictions - Y_test)**2\n",
        "print(np.sqrt(\n",
        "    stats.t.interval(confidence, len(squared_errors)-1,\n",
        "                     loc=squared_errors.mean(), scale=stats.sem(squared_errors))))"
      ]
    },
    {
      "cell_type": "code",
      "execution_count": null,
      "metadata": {
        "id": "23TOba33L4qf"
      },
      "outputs": [],
      "source": [
        "gpu_info = !nvidia-smi\n",
        "gpu_info = '\\n'.join(gpu_info)\n",
        "if gpu_info.find('failed') >= 0:\n",
        "  print('Not connected to a GPU')\n",
        "else:\n",
        "  print(gpu_info)"
      ]
    },
    {
      "cell_type": "markdown",
      "metadata": {
        "id": "Sa-IrJS1aRVJ"
      },
      "source": [
        "In order to use a GPU with your notebook, select the Runtime > Change runtime type menu, and then set the hardware accelerator dropdown to GPU."
      ]
    },
    {
      "cell_type": "markdown",
      "metadata": {
        "id": "65MSuHKqNeBZ"
      },
      "source": [
        "## More memory\n",
        "\n",
        "With Colab Pro you have the option to access high-memory VMs when they are available, and with Pro+ even more so. To set your notebook preference to use a high-memory runtime, select the Runtime > 'Change runtime type' menu, and then select High-RAM in the Runtime shape dropdown.\n",
        "\n",
        "You can see how much memory you have available at any time by running the following code cell.\n",
        "\n",
        "\n",
        "\n",
        "If the execution result of running the code cell below is \"Not using a high-RAM runtime\", then you can enable a high-RAM runtime via Runtime > Change runtime type in the menu. Then select High-RAM in the Runtime shape dropdown. After, re-execute the code cell.\n"
      ]
    },
    {
      "cell_type": "code",
      "execution_count": null,
      "metadata": {
        "id": "V1G82GuO-tez"
      },
      "outputs": [],
      "source": [
        "from psutil import virtual_memory\n",
        "ram_gb = virtual_memory().total / 1e9\n",
        "print('Your runtime has {:.1f} gigabytes of available RAM\\n'.format(ram_gb))\n",
        "\n",
        "if ram_gb < 20:\n",
        "  print('Not using a high-RAM runtime')\n",
        "else:\n",
        "  print('You are using a high-RAM runtime!')"
      ]
    },
    {
      "cell_type": "markdown",
      "metadata": {
        "id": "BJW8Qi-pPpep"
      },
      "source": [
        "## Longer runtimes\n",
        "\n",
        "All Colab runtimes are reset after some period of time (which is faster if the runtime isn't executing code). While Colab Pro subscribers still have limits, these will be roughly twice the limits for non-subscribers, with even more stability for Pro+."
      ]
    },
    {
      "cell_type": "markdown",
      "metadata": {
        "id": "uLlTRcMM_h0k"
      },
      "source": [
        "## Resource limits in Colab Pro\n",
        "\n",
        "Your resources are not unlimited in Colab. To make the most of Colab Pro and Pro+, please avoid using resources when you don't need them. For example, only use a GPU or high-RAM runtime when required, and close Colab tabs when finished.\n"
      ]
    },
    {
      "cell_type": "markdown",
      "metadata": {
        "id": "mm8FzEidvPs6"
      },
      "source": [
        "## Send us feedback!\n",
        "\n",
        "If you have any feedback for us, please let us know. The best way to send feedback is by using the Help > 'Send feedback...' menu. If you encounter usage limits in Colab Pro consider subscribing to Pro+. If you are interested in unlimited pay as you go usage to remove all imposed limits, please do let us know.\n",
        "\n",
        "If you encounter errors or other issues with billing (payments) for Colab Pro or Pro+, please email [colab-billing@google.com](mailto:colab-billing@google.com)."
      ]
    },
    {
      "cell_type": "markdown",
      "metadata": {
        "id": "qB3bdLe8jkAa"
      },
      "source": [
        "## More Resources\n",
        "\n",
        "### Working with Notebooks in Colab\n",
        "- [Overview of Colaboratory](/notebooks/basic_features_overview.ipynb)\n",
        "- [Guide to Markdown](/notebooks/markdown_guide.ipynb)\n",
        "- [Importing libraries and installing dependencies](/notebooks/snippets/importing_libraries.ipynb)\n",
        "- [Saving and loading notebooks in GitHub](https://colab.research.google.com/github/googlecolab/colabtools/blob/master/notebooks/colab-github-demo.ipynb)\n",
        "- [Interactive forms](/notebooks/forms.ipynb)\n",
        "- [Interactive widgets](/notebooks/widgets.ipynb)\n",
        "\n",
        "<a name=\"working-with-data\"></a>\n",
        "### Working with Data\n",
        "- [Loading data: Drive, Sheets, and Google Cloud Storage](/notebooks/io.ipynb) \n",
        "- [Charts: visualizing data](/notebooks/charts.ipynb)\n",
        "- [Getting started with BigQuery](/notebooks/bigquery.ipynb)\n",
        "\n",
        "### Machine Learning Crash Course\n",
        "These are a few of the notebooks from Google's online Machine Learning course. See the [full course website](https://developers.google.com/machine-learning/crash-course/) for more.\n",
        "- [Intro to Pandas DataFrame](https://colab.research.google.com/github/google/eng-edu/blob/main/ml/cc/exercises/pandas_dataframe_ultraquick_tutorial.ipynb)\n",
        "- [Linear regression with tf.keras using synthetic data](https://colab.research.google.com/github/google/eng-edu/blob/main/ml/cc/exercises/linear_regression_with_synthetic_data.ipynb)\n",
        "\n",
        "\n",
        "<a name=\"using-accelerated-hardware\"></a>\n",
        "### Using Accelerated Hardware\n",
        "- [TensorFlow with GPUs](/notebooks/gpu.ipynb)\n",
        "- [TensorFlow with TPUs](/notebooks/tpu.ipynb)"
      ]
    },
    {
      "cell_type": "markdown",
      "metadata": {
        "id": "RFm2S0Gijqo8"
      },
      "source": [
        "<a name=\"machine-learning-examples\"></a>\n",
        "\n",
        "## Machine Learning Examples\n",
        "\n",
        "To see end-to-end examples of the interactive machine learning analyses that Colaboratory makes possible, check out these  tutorials using models from [TensorFlow Hub](https://tfhub.dev).\n",
        "\n",
        "A few featured examples:\n",
        "\n",
        "- [Retraining an Image Classifier](https://tensorflow.org/hub/tutorials/tf2_image_retraining): Build a Keras model on top of a pre-trained image classifier to distinguish flowers.\n",
        "- [Text Classification](https://tensorflow.org/hub/tutorials/tf2_text_classification): Classify IMDB movie reviews as either *positive* or *negative*.\n",
        "- [Style Transfer](https://tensorflow.org/hub/tutorials/tf2_arbitrary_image_stylization): Use deep learning to transfer style between images.\n",
        "- [Multilingual Universal Sentence Encoder Q&A](https://tensorflow.org/hub/tutorials/retrieval_with_tf_hub_universal_encoder_qa): Use a machine learning model to answer questions from the SQuAD dataset.\n",
        "- [Video Interpolation](https://tensorflow.org/hub/tutorials/tweening_conv3d): Predict what happened in a video between the first and the last frame.\n"
      ]
    }
  ],
  "metadata": {
    "colab": {
      "machine_shape": "hm",
      "provenance": []
    },
    "gpuClass": "premium",
    "kernelspec": {
      "display_name": "Python 3",
      "name": "python3"
    }
  },
  "nbformat": 4,
  "nbformat_minor": 0
}